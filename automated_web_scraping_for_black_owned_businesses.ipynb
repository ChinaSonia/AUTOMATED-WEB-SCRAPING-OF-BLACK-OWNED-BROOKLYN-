{
  "cells": [
    {
      "cell_type": "code",
      "execution_count": 4,
      "metadata": {
        "colab": {
          "base_uri": "https://localhost:8080/"
        },
        "id": "axe1RcERinc0",
        "outputId": "5034106a-7c51-4e33-9cf8-511aa36a299c"
      },
      "outputs": [
        {
          "name": "stdout",
          "output_type": "stream",
          "text": [
            "https://www.nbcnews.com/select/shopping/black-owned-business-guide-ncna1258948\n",
            "https://www.goodhousekeeping.com/life/a33561639/black-owned-businesses/\n",
            "https://nymag.com/strategist/article/black-owned-businesses-support-shop.html\n",
            "https://www.oprahdaily.com/life/a32731286/black-owned-businesses/\n",
            "https://www.pewresearch.org/fact-tank/2023/02/21/a-look-at-black-owned-businesses-in-the-u-s/\n",
            "https://www.glamour.com/story/support-black-owned-business\n",
            "https://www.brookings.edu/research/black-owned-businesses-in-u-s-cities-the-challenges-solutions-and-opportunities-for-prosperity/\n",
            "https://www.uschamber.com/co/start/strategy/black-owned-businesses-directories\n",
            "https://www.forbes.com/sites/elisabethbrier/2020/06/05/100-black-owned-businesses-to-support/\n",
            "https://www.forbes.com/sites/forbes-personal-shopper/article/best-black-owned-businesses/\n",
            "https://www.sba.gov/business-guide/grow-your-business/minority-owned-businesses\n",
            "https://nypost.com/article/black-owned-businesses-to-shop-support/\n",
            "https://theeverygirl.com/black-owned-businesses/\n",
            "https://www.rd.com/article/black-owned-businesses/\n",
            "https://www.amazon.com/b?ie=UTF8&node=18096056011\n",
            "https://www.target.com/c/black-owned-or-founded-brands-at-target/-/N-q8v16\n",
            "https://secretnyc.co/nyc-black-owned-businesses/\n",
            "https://www.score.org/resource/blog-post/13-ways-support-black-owned-businesses-organizations\n",
            "https://www.visitsaintpaul.com/things-to-do/shopping/black-owned-businesses/\n",
            "https://storymaps.arcgis.com/stories/bac7c36c308945079c91a5c56f785be1\n",
            "https://www.nationalharbor.com/black-owned-businesses/\n",
            "https://en.wikipedia.org/wiki/Black-owned_businesses\n",
            "https://secretatlanta.co/black-owned-businesses-atlanta/\n",
            "https://www.blackownedbrooklyn.com/\n",
            "https://baltimore.org/what-to-do/black-owned-businesses/\n",
            "https://washington.org/visit-dc/black-owned-business\n",
            "https://thevoiceofblackcincinnati.com/black-owned-businesses/\n",
            "https://www.orangecountync.gov/2566/Black-Owned-Businesses\n",
            "https://www.visitpittsburgh.com/blog/black-owned-pittsburgh/\n",
            "https://www.miamidade.gov/global/government/trusts/economicadvocacy/black-owned-business.page\n",
            "https://mercatuspdx.com/directory/black-owned-businesses/\n",
            "https://www.austintexas.org/austin-insider-blog/post/black-owned-stores-austin/\n",
            "https://www.visitphilly.com/media-center/press-releases/black-owned-businesses-thrive-in-philadelphia/\n",
            "https://get.doordash.com/en-us/blog/supporting-black-owned-businesses\n",
            "https://www.jpmorganchase.com/impact/racialequity/minority-owned-businesses\n",
            "https://www.mckinsey.com/featured-insights/sustainable-inclusive-growth/future-of-america/black-owned-businesses-face-an-unequal-path-to-recovery\n",
            "https://www.bobrochester.com/\n",
            "https://www.blackdollar.ninja/businesses\n",
            "https://visithampton.com/hamptons-black-owned-businesses/\n",
            "https://ohio.org/100-black-owned-ohio-businesses-to-check-out/\n",
            "https://www.discoverlosangeles.com/visit/the-guide-to-black-owned-businesses-in-la\n",
            "https://www.timeout.com/chicago/things-to-do/black-owned-businesses-shaping-chicago-now\n",
            "https://www.facebook.com/groups/cbobgroup/\n",
            "https://www.visitathensga.com/things-to-do/black-owned/\n",
            "https://www.visitphoenix.com/stories/post/black-owned-businesses/\n",
            "https://www.fortworth.com/discover-diverse-fort-worth/black-owned-businesses/\n",
            "https://mnblackbusiness.com/\n",
            "https://www.pikeplacemarket.org/where-to-shop-black-owned-businesses-in-pike-place-market/\n",
            "https://secretsanfrancisco.com/black-owned-businesses-sf/\n",
            "https://disneyparks.disney.go.com/blog/2023/03/disney-cast-unites-to-pour-more-than-136000-into-black-owned-businesses/\n"
          ]
        }
      ],
      "source": [
        "#I used google colab to run this and google  colab only accepts num as a variable,\n",
        "#but vscode uses num_results and it doesn't take stop as a parameter. So when running it in your notebook, \n",
        "# if it returns an error, then try num_result = 50 instead.\n",
        "\n",
        "import requests\n",
        "from bs4 import BeautifulSoup\n",
        "from googlesearch import search\n",
        "query = \"Black-Owned-Businesses\"\n",
        "num = 50\n",
        "for result in search(query=query, num=num, stop=50):\n",
        "    print(result)"
      ]
    }
  ],
  "metadata": {
    "colab": {
      "provenance": []
    },
    "kernelspec": {
      "display_name": "Python 3",
      "name": "python3"
    },
    "language_info": {
      "name": "python",
      "version": "3.11.2"
    }
  },
  "nbformat": 4,
  "nbformat_minor": 0
}
